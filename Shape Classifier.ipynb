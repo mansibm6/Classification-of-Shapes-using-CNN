{
 "cells": [
  {
   "cell_type": "code",
   "execution_count": 12,
   "metadata": {},
   "outputs": [],
   "source": [
    "import tensorflow as tf\n",
    "import matplotlib.pyplot as plt #lets us plot like MATLAB\n",
    "import cv2\n",
    "import os #allows python script to interact with OS\n",
    "import numpy as np\n",
    "from tensorflow.keras.preprocessing.image import ImageDataGenerator #tools for real time data augmentation on image data\n",
    "from tensorflow.keras.preprocessing import image \n",
    "from tensorflow.keras.optimizers import RMSprop #built in optimizer classes\n"
   ]
  },
  {
   "cell_type": "code",
   "execution_count": 13,
   "metadata": {},
   "outputs": [],
   "source": [
    "img = image.load_img(\"data/train/triangles/drawing(1).PNG\")"
   ]
  },
  {
   "cell_type": "code",
   "execution_count": 14,
   "metadata": {},
   "outputs": [
    {
     "data": {
      "text/plain": [
       "<matplotlib.image.AxesImage at 0x1cfd70a7b20>"
      ]
     },
     "execution_count": 14,
     "metadata": {},
     "output_type": "execute_result"
    },
    {
     "data": {
      "image/png": "[encoded data removed]",
      "text/plain": [
       "<Figure size 432x288 with 1 Axes>"
      ]
     },
     "metadata": {
      "needs_background": "light"
     },
     "output_type": "display_data"
    }
   ],
   "source": [
    "plt.imshow(img)"
   ]
  },
  {
   "cell_type": "code",
   "execution_count": 15,
   "metadata": {},
   "outputs": [
    {
     "data": {
      "text/plain": [
       "(28, 28, 3)"
      ]
     },
     "execution_count": 15,
     "metadata": {},
     "output_type": "execute_result"
    }
   ],
   "source": [
    "cv2.imread(\"data/train/triangles/drawing(1).PNG\").shape # 'shape' gives the dimensions of the image"
   ]
  },
  {
   "cell_type": "code",
   "execution_count": 16,
   "metadata": {},
   "outputs": [],
   "source": [
    "train = ImageDataGenerator(rescale= 1/255) #this transforms the pixel RGB value from a range of 0-255 to a range of 0-1.000\n",
    "validation = ImageDataGenerator(rescale= 1/255)"
   ]
  },
  {
   "cell_type": "code",
   "execution_count": 17,
   "metadata": {},
   "outputs": [
    {
     "name": "stdout",
     "output_type": "stream",
     "text": [
      "Found 300 images belonging to 3 classes.\n"
     ]
    }
   ],
   "source": [
    "train_dataset = train.flow_from_directory(\"data/train/\", target_size = (28,28), batch_size = 50,\n",
    "                                         class_mode = 'categorical') #generates a batch of augmented data"
   ]
  },
  {
   "cell_type": "code",
   "execution_count": 18,
   "metadata": {},
   "outputs": [
    {
     "name": "stdout",
     "output_type": "stream",
     "text": [
      "Found 300 images belonging to 3 classes.\n"
     ]
    }
   ],
   "source": [
    "validation_dataset = train.flow_from_directory(\"data/train/\", target_size = (28,28), batch_size = 50,\n",
    "                                         class_mode = 'categorical') #generates a batch of augmented data"
   ]
  },
  {
   "cell_type": "code",
   "execution_count": 19,
   "metadata": {},
   "outputs": [
    {
     "data": {
      "text/plain": [
       "{'circles': 0, 'squares': 1, 'triangles': 2}"
      ]
     },
     "execution_count": 19,
     "metadata": {},
     "output_type": "execute_result"
    }
   ],
   "source": [
    "train_dataset.class_indices #checking indices of the classes"
   ]
  },
  {
   "cell_type": "code",
   "execution_count": 20,
   "metadata": {},
   "outputs": [],
   "source": [
    "model = tf.keras.models.Sequential([tf.keras.layers.Conv2D(16, (3,3), activation = 'relu', input_shape = (28,28,3)),\n",
    "                                   tf.keras.layers.MaxPool2D(2,2),\n",
    "                                   tf.keras.layers.Conv2D(32, (3,3), activation = 'relu'),\n",
    "                                   tf.keras.layers.MaxPool2D(2,2),\n",
    "                                   tf.keras.layers.Conv2D(64, (3,3), activation = 'relu'),\n",
    "                                   tf.keras.layers.MaxPool2D(2,2),\n",
    "                                   tf.keras.layers.Flatten(),\n",
    "                                   tf.keras.layers.Dense(512, activation='relu'),\n",
    "                                   tf.keras.layers.Dense(3, activation='softmax')]) #the layers are given in the form of a list. Activation function ReLU used in Convolutional layers and Softmax used in final layer "
   ]
  },
  {
   "cell_type": "code",
   "execution_count": 21,
   "metadata": {},
   "outputs": [],
   "source": [
    "model.compile(loss='categorical_crossentropy', #chosing loss function and optimizer class\n",
    "             optimizer = tf.keras.optimizers.Adam(lr=0.001),\n",
    "             metrics = [\"accuracy\"] )"
   ]
  },
  {
   "cell_type": "code",
   "execution_count": 22,
   "metadata": {},
   "outputs": [
    {
     "name": "stdout",
     "output_type": "stream",
     "text": [
      "Epoch 1/100\n",
      "3/3 [==============================] - 1s 480ms/step - loss: 1.1005 - accuracy: 0.3467 - val_loss: 1.0993 - val_accuracy: 0.3333\n",
      "Epoch 2/100\n",
      "3/3 [==============================] - 0s 62ms/step - loss: 1.0931 - accuracy: 0.4200 - val_loss: 1.0990 - val_accuracy: 0.3333\n",
      "Epoch 3/100\n",
      "3/3 [==============================] - 0s 52ms/step - loss: 1.0844 - accuracy: 0.3600 - val_loss: 1.0974 - val_accuracy: 0.5133\n",
      "Epoch 4/100\n",
      "3/3 [==============================] - 0s 51ms/step - loss: 1.0864 - accuracy: 0.4533 - val_loss: 1.1000 - val_accuracy: 0.3333\n",
      "Epoch 5/100\n",
      "3/3 [==============================] - 0s 55ms/step - loss: 1.0950 - accuracy: 0.3267 - val_loss: 1.0823 - val_accuracy: 0.3533\n",
      "Epoch 6/100\n",
      "3/3 [==============================] - 0s 50ms/step - loss: 1.0815 - accuracy: 0.4267 - val_loss: 1.0865 - val_accuracy: 0.3333\n",
      "Epoch 7/100\n",
      "3/3 [==============================] - 0s 55ms/step - loss: 1.0883 - accuracy: 0.3333 - val_loss: 1.0722 - val_accuracy: 0.5567\n",
      "Epoch 8/100\n",
      "3/3 [==============================] - 0s 54ms/step - loss: 1.0653 - accuracy: 0.6467 - val_loss: 1.0586 - val_accuracy: 0.4733\n",
      "Epoch 9/100\n",
      "3/3 [==============================] - 0s 51ms/step - loss: 1.0526 - accuracy: 0.4533 - val_loss: 1.0559 - val_accuracy: 0.3567\n",
      "Epoch 10/100\n",
      "3/3 [==============================] - 0s 51ms/step - loss: 1.0338 - accuracy: 0.4000 - val_loss: 1.0185 - val_accuracy: 0.6233\n",
      "Epoch 11/100\n",
      "3/3 [==============================] - 0s 56ms/step - loss: 1.0104 - accuracy: 0.6000 - val_loss: 0.9947 - val_accuracy: 0.5767\n",
      "Epoch 12/100\n",
      "3/3 [==============================] - 0s 60ms/step - loss: 0.9736 - accuracy: 0.6467 - val_loss: 0.9598 - val_accuracy: 0.5500\n",
      "Epoch 13/100\n",
      "3/3 [==============================] - 0s 55ms/step - loss: 0.9322 - accuracy: 0.6333 - val_loss: 0.8996 - val_accuracy: 0.6567\n",
      "Epoch 14/100\n",
      "3/3 [==============================] - 0s 53ms/step - loss: 0.8960 - accuracy: 0.6200 - val_loss: 0.8651 - val_accuracy: 0.5600\n",
      "Epoch 15/100\n",
      "3/3 [==============================] - 0s 52ms/step - loss: 0.8580 - accuracy: 0.5067 - val_loss: 0.8417 - val_accuracy: 0.7200\n",
      "Epoch 16/100\n",
      "3/3 [==============================] - 0s 59ms/step - loss: 0.7919 - accuracy: 0.7667 - val_loss: 0.7484 - val_accuracy: 0.7233\n",
      "Epoch 17/100\n",
      "3/3 [==============================] - 0s 60ms/step - loss: 0.7322 - accuracy: 0.7067 - val_loss: 0.7217 - val_accuracy: 0.6867\n",
      "Epoch 18/100\n",
      "3/3 [==============================] - 0s 53ms/step - loss: 0.6816 - accuracy: 0.6733 - val_loss: 0.6577 - val_accuracy: 0.7500\n",
      "Epoch 19/100\n",
      "3/3 [==============================] - 0s 50ms/step - loss: 0.6707 - accuracy: 0.7600 - val_loss: 0.6381 - val_accuracy: 0.7467\n",
      "Epoch 20/100\n",
      "3/3 [==============================] - 0s 51ms/step - loss: 0.6334 - accuracy: 0.7600 - val_loss: 0.6064 - val_accuracy: 0.7533\n",
      "Epoch 21/100\n",
      "3/3 [==============================] - 0s 65ms/step - loss: 0.6759 - accuracy: 0.7133 - val_loss: 0.5545 - val_accuracy: 0.7900\n",
      "Epoch 22/100\n",
      "3/3 [==============================] - 0s 60ms/step - loss: 0.6600 - accuracy: 0.7333 - val_loss: 0.5402 - val_accuracy: 0.7867\n",
      "Epoch 23/100\n",
      "3/3 [==============================] - 0s 70ms/step - loss: 0.4946 - accuracy: 0.8467 - val_loss: 0.6609 - val_accuracy: 0.7033\n",
      "Epoch 24/100\n",
      "3/3 [==============================] - 0s 72ms/step - loss: 0.5558 - accuracy: 0.7933 - val_loss: 0.5765 - val_accuracy: 0.7567\n",
      "Epoch 25/100\n",
      "3/3 [==============================] - 0s 69ms/step - loss: 0.5644 - accuracy: 0.7467 - val_loss: 0.4845 - val_accuracy: 0.8367\n",
      "Epoch 26/100\n",
      "3/3 [==============================] - 0s 66ms/step - loss: 0.4597 - accuracy: 0.8467 - val_loss: 0.4702 - val_accuracy: 0.8233\n",
      "Epoch 27/100\n",
      "3/3 [==============================] - 0s 64ms/step - loss: 0.4881 - accuracy: 0.8400 - val_loss: 0.4847 - val_accuracy: 0.8167\n",
      "Epoch 28/100\n",
      "3/3 [==============================] - 0s 51ms/step - loss: 0.4523 - accuracy: 0.8400 - val_loss: 0.4303 - val_accuracy: 0.8433\n",
      "Epoch 29/100\n",
      "3/3 [==============================] - 0s 53ms/step - loss: 0.4066 - accuracy: 0.8533 - val_loss: 0.4041 - val_accuracy: 0.8500\n",
      "Epoch 30/100\n",
      "3/3 [==============================] - 0s 56ms/step - loss: 0.4004 - accuracy: 0.8600 - val_loss: 0.3793 - val_accuracy: 0.8600\n",
      "Epoch 31/100\n",
      "3/3 [==============================] - 0s 53ms/step - loss: 0.3762 - accuracy: 0.8467 - val_loss: 0.3703 - val_accuracy: 0.8767\n",
      "Epoch 32/100\n",
      "3/3 [==============================] - 0s 51ms/step - loss: 0.3217 - accuracy: 0.9133 - val_loss: 0.3445 - val_accuracy: 0.8733\n",
      "Epoch 33/100\n",
      "3/3 [==============================] - 0s 53ms/step - loss: 0.3752 - accuracy: 0.8533 - val_loss: 0.3640 - val_accuracy: 0.8600\n",
      "Epoch 34/100\n",
      "3/3 [==============================] - 0s 52ms/step - loss: 0.3530 - accuracy: 0.8600 - val_loss: 0.3413 - val_accuracy: 0.9000\n",
      "Epoch 35/100\n",
      "3/3 [==============================] - 0s 55ms/step - loss: 0.3209 - accuracy: 0.9000 - val_loss: 0.3138 - val_accuracy: 0.8800\n",
      "Epoch 36/100\n",
      "3/3 [==============================] - 0s 52ms/step - loss: 0.3354 - accuracy: 0.8867 - val_loss: 0.3140 - val_accuracy: 0.8733\n",
      "Epoch 37/100\n",
      "3/3 [==============================] - 0s 52ms/step - loss: 0.3001 - accuracy: 0.8667 - val_loss: 0.2837 - val_accuracy: 0.9100\n",
      "Epoch 38/100\n",
      "3/3 [==============================] - 0s 53ms/step - loss: 0.3334 - accuracy: 0.8800 - val_loss: 0.3290 - val_accuracy: 0.8800\n",
      "Epoch 39/100\n",
      "3/3 [==============================] - 0s 61ms/step - loss: 0.3365 - accuracy: 0.8933 - val_loss: 0.3196 - val_accuracy: 0.8967\n",
      "Epoch 40/100\n",
      "3/3 [==============================] - 0s 55ms/step - loss: 0.3402 - accuracy: 0.8867 - val_loss: 0.3113 - val_accuracy: 0.8733\n",
      "Epoch 41/100\n",
      "3/3 [==============================] - 0s 54ms/step - loss: 0.2555 - accuracy: 0.9000 - val_loss: 0.2649 - val_accuracy: 0.9200\n",
      "Epoch 42/100\n",
      "3/3 [==============================] - 0s 57ms/step - loss: 0.2927 - accuracy: 0.9133 - val_loss: 0.2393 - val_accuracy: 0.9333\n",
      "Epoch 43/100\n",
      "3/3 [==============================] - 0s 51ms/step - loss: 0.2373 - accuracy: 0.9000 - val_loss: 0.2872 - val_accuracy: 0.8667\n",
      "Epoch 44/100\n",
      "3/3 [==============================] - 0s 55ms/step - loss: 0.2676 - accuracy: 0.9000 - val_loss: 0.2360 - val_accuracy: 0.9267\n",
      "Epoch 45/100\n",
      "3/3 [==============================] - 0s 59ms/step - loss: 0.2566 - accuracy: 0.9200 - val_loss: 0.2379 - val_accuracy: 0.9233\n",
      "Epoch 46/100\n",
      "3/3 [==============================] - 0s 60ms/step - loss: 0.2070 - accuracy: 0.9333 - val_loss: 0.1972 - val_accuracy: 0.9367\n",
      "Epoch 47/100\n",
      "3/3 [==============================] - 0s 53ms/step - loss: 0.2111 - accuracy: 0.9200 - val_loss: 0.1957 - val_accuracy: 0.9367\n",
      "Epoch 48/100\n",
      "3/3 [==============================] - 0s 53ms/step - loss: 0.2025 - accuracy: 0.9333 - val_loss: 0.2085 - val_accuracy: 0.9367\n",
      "Epoch 49/100\n",
      "3/3 [==============================] - 0s 51ms/step - loss: 0.2139 - accuracy: 0.9533 - val_loss: 0.1732 - val_accuracy: 0.9433\n",
      "Epoch 50/100\n",
      "3/3 [==============================] - 0s 53ms/step - loss: 0.1638 - accuracy: 0.9400 - val_loss: 0.1683 - val_accuracy: 0.9433\n",
      "Epoch 51/100\n",
      "3/3 [==============================] - 0s 54ms/step - loss: 0.1804 - accuracy: 0.9533 - val_loss: 0.1599 - val_accuracy: 0.9433\n",
      "Epoch 52/100\n",
      "3/3 [==============================] - 0s 52ms/step - loss: 0.1644 - accuracy: 0.9400 - val_loss: 0.1547 - val_accuracy: 0.9567\n",
      "Epoch 53/100\n",
      "3/3 [==============================] - 0s 64ms/step - loss: 0.1335 - accuracy: 0.9667 - val_loss: 0.1423 - val_accuracy: 0.9600\n",
      "Epoch 54/100\n",
      "3/3 [==============================] - 0s 51ms/step - loss: 0.1097 - accuracy: 0.9667 - val_loss: 0.1334 - val_accuracy: 0.9700\n",
      "Epoch 55/100\n",
      "3/3 [==============================] - 0s 52ms/step - loss: 0.1182 - accuracy: 0.9800 - val_loss: 0.1389 - val_accuracy: 0.9633\n",
      "Epoch 56/100\n",
      "3/3 [==============================] - 0s 55ms/step - loss: 0.1143 - accuracy: 0.9667 - val_loss: 0.1629 - val_accuracy: 0.9333\n",
      "Epoch 57/100\n",
      "3/3 [==============================] - 0s 63ms/step - loss: 0.1596 - accuracy: 0.9200 - val_loss: 0.1510 - val_accuracy: 0.9633\n",
      "Epoch 58/100\n",
      "3/3 [==============================] - 0s 52ms/step - loss: 0.1494 - accuracy: 0.9600 - val_loss: 0.1093 - val_accuracy: 0.9833\n",
      "Epoch 59/100\n"
     ]
    },
    {
     "name": "stdout",
     "output_type": "stream",
     "text": [
      "3/3 [==============================] - 0s 62ms/step - loss: 0.1357 - accuracy: 0.9733 - val_loss: 0.1238 - val_accuracy: 0.9600\n",
      "Epoch 60/100\n",
      "3/3 [==============================] - 0s 53ms/step - loss: 0.1354 - accuracy: 0.9600 - val_loss: 0.1066 - val_accuracy: 0.9800\n",
      "Epoch 61/100\n",
      "3/3 [==============================] - 0s 60ms/step - loss: 0.1080 - accuracy: 0.9800 - val_loss: 0.1098 - val_accuracy: 0.9667\n",
      "Epoch 62/100\n",
      "3/3 [==============================] - 0s 55ms/step - loss: 0.0974 - accuracy: 0.9867 - val_loss: 0.0998 - val_accuracy: 0.9833\n",
      "Epoch 63/100\n",
      "3/3 [==============================] - 0s 61ms/step - loss: 0.1023 - accuracy: 0.9800 - val_loss: 0.0925 - val_accuracy: 0.9833\n",
      "Epoch 64/100\n",
      "3/3 [==============================] - 0s 53ms/step - loss: 0.1074 - accuracy: 0.9733 - val_loss: 0.0913 - val_accuracy: 0.9800\n",
      "Epoch 65/100\n",
      "3/3 [==============================] - 0s 55ms/step - loss: 0.0830 - accuracy: 0.9800 - val_loss: 0.0764 - val_accuracy: 0.9867\n",
      "Epoch 66/100\n",
      "3/3 [==============================] - 0s 55ms/step - loss: 0.0903 - accuracy: 0.9867 - val_loss: 0.0638 - val_accuracy: 0.9933\n",
      "Epoch 67/100\n",
      "3/3 [==============================] - 0s 52ms/step - loss: 0.0593 - accuracy: 0.9800 - val_loss: 0.0792 - val_accuracy: 0.9833\n",
      "Epoch 68/100\n",
      "3/3 [==============================] - 0s 55ms/step - loss: 0.0606 - accuracy: 0.9933 - val_loss: 0.0736 - val_accuracy: 0.9867\n",
      "Epoch 69/100\n",
      "3/3 [==============================] - 0s 60ms/step - loss: 0.0777 - accuracy: 0.9800 - val_loss: 0.0541 - val_accuracy: 0.9933\n",
      "Epoch 70/100\n",
      "3/3 [==============================] - 0s 50ms/step - loss: 0.0660 - accuracy: 0.9867 - val_loss: 0.0524 - val_accuracy: 1.0000\n",
      "Epoch 71/100\n",
      "3/3 [==============================] - 0s 53ms/step - loss: 0.0286 - accuracy: 1.0000 - val_loss: 0.0447 - val_accuracy: 1.0000\n",
      "Epoch 72/100\n",
      "3/3 [==============================] - 0s 58ms/step - loss: 0.0459 - accuracy: 1.0000 - val_loss: 0.0451 - val_accuracy: 0.9967\n",
      "Epoch 73/100\n",
      "3/3 [==============================] - 0s 56ms/step - loss: 0.0392 - accuracy: 0.9933 - val_loss: 0.0400 - val_accuracy: 1.0000\n",
      "Epoch 74/100\n",
      "3/3 [==============================] - 0s 51ms/step - loss: 0.0392 - accuracy: 1.0000 - val_loss: 0.0387 - val_accuracy: 1.0000\n",
      "Epoch 75/100\n",
      "3/3 [==============================] - 0s 59ms/step - loss: 0.0463 - accuracy: 0.9933 - val_loss: 0.0417 - val_accuracy: 0.9967\n",
      "Epoch 76/100\n",
      "3/3 [==============================] - 0s 49ms/step - loss: 0.0368 - accuracy: 1.0000 - val_loss: 0.0340 - val_accuracy: 1.0000\n",
      "Epoch 77/100\n",
      "3/3 [==============================] - 0s 55ms/step - loss: 0.0384 - accuracy: 1.0000 - val_loss: 0.0309 - val_accuracy: 1.0000\n",
      "Epoch 78/100\n",
      "3/3 [==============================] - 0s 51ms/step - loss: 0.0333 - accuracy: 1.0000 - val_loss: 0.0299 - val_accuracy: 1.0000\n",
      "Epoch 79/100\n",
      "3/3 [==============================] - 0s 51ms/step - loss: 0.0270 - accuracy: 1.0000 - val_loss: 0.0250 - val_accuracy: 1.0000\n",
      "Epoch 80/100\n",
      "3/3 [==============================] - 0s 59ms/step - loss: 0.0219 - accuracy: 1.0000 - val_loss: 0.0241 - val_accuracy: 1.0000\n",
      "Epoch 81/100\n",
      "3/3 [==============================] - 0s 52ms/step - loss: 0.0199 - accuracy: 1.0000 - val_loss: 0.0261 - val_accuracy: 1.0000\n",
      "Epoch 82/100\n",
      "3/3 [==============================] - 0s 52ms/step - loss: 0.0252 - accuracy: 1.0000 - val_loss: 0.0209 - val_accuracy: 1.0000\n",
      "Epoch 83/100\n",
      "3/3 [==============================] - 0s 52ms/step - loss: 0.0229 - accuracy: 1.0000 - val_loss: 0.0225 - val_accuracy: 1.0000\n",
      "Epoch 84/100\n",
      "3/3 [==============================] - 0s 53ms/step - loss: 0.0211 - accuracy: 1.0000 - val_loss: 0.0201 - val_accuracy: 1.0000\n",
      "Epoch 85/100\n",
      "3/3 [==============================] - 0s 60ms/step - loss: 0.0159 - accuracy: 1.0000 - val_loss: 0.0179 - val_accuracy: 1.0000\n",
      "Epoch 86/100\n",
      "3/3 [==============================] - 0s 54ms/step - loss: 0.0187 - accuracy: 1.0000 - val_loss: 0.0184 - val_accuracy: 1.0000\n",
      "Epoch 87/100\n",
      "3/3 [==============================] - 0s 66ms/step - loss: 0.0222 - accuracy: 1.0000 - val_loss: 0.0159 - val_accuracy: 1.0000\n",
      "Epoch 88/100\n",
      "3/3 [==============================] - 0s 62ms/step - loss: 0.0176 - accuracy: 1.0000 - val_loss: 0.0198 - val_accuracy: 1.0000\n",
      "Epoch 89/100\n",
      "3/3 [==============================] - 0s 64ms/step - loss: 0.0162 - accuracy: 1.0000 - val_loss: 0.0141 - val_accuracy: 1.0000\n",
      "Epoch 90/100\n",
      "3/3 [==============================] - 0s 55ms/step - loss: 0.0105 - accuracy: 1.0000 - val_loss: 0.0177 - val_accuracy: 1.0000\n",
      "Epoch 91/100\n",
      "3/3 [==============================] - 0s 56ms/step - loss: 0.0184 - accuracy: 1.0000 - val_loss: 0.0134 - val_accuracy: 1.0000\n",
      "Epoch 92/100\n",
      "3/3 [==============================] - 0s 65ms/step - loss: 0.0174 - accuracy: 1.0000 - val_loss: 0.0153 - val_accuracy: 1.0000\n",
      "Epoch 93/100\n",
      "3/3 [==============================] - 0s 61ms/step - loss: 0.0124 - accuracy: 1.0000 - val_loss: 0.0114 - val_accuracy: 1.0000\n",
      "Epoch 94/100\n",
      "3/3 [==============================] - 0s 74ms/step - loss: 0.0143 - accuracy: 1.0000 - val_loss: 0.0111 - val_accuracy: 1.0000\n",
      "Epoch 95/100\n",
      "3/3 [==============================] - 0s 64ms/step - loss: 0.0118 - accuracy: 1.0000 - val_loss: 0.0117 - val_accuracy: 1.0000\n",
      "Epoch 96/100\n",
      "3/3 [==============================] - 0s 60ms/step - loss: 0.0074 - accuracy: 1.0000 - val_loss: 0.0104 - val_accuracy: 1.0000\n",
      "Epoch 97/100\n",
      "3/3 [==============================] - 0s 69ms/step - loss: 0.0087 - accuracy: 1.0000 - val_loss: 0.0093 - val_accuracy: 1.0000\n",
      "Epoch 98/100\n",
      "3/3 [==============================] - 0s 62ms/step - loss: 0.0116 - accuracy: 1.0000 - val_loss: 0.0088 - val_accuracy: 1.0000\n",
      "Epoch 99/100\n",
      "3/3 [==============================] - 0s 58ms/step - loss: 0.0094 - accuracy: 1.0000 - val_loss: 0.0086 - val_accuracy: 1.0000\n",
      "Epoch 100/100\n",
      "3/3 [==============================] - 0s 61ms/step - loss: 0.0083 - accuracy: 1.0000 - val_loss: 0.0081 - val_accuracy: 1.0000\n"
     ]
    }
   ],
   "source": [
    "model_fit=model.fit(train_dataset, steps_per_epoch = 3,\n",
    "                   epochs = 100,\n",
    "                   validation_data = validation_dataset)"
   ]
  },
  {
   "cell_type": "code",
   "execution_count": 23,
   "metadata": {},
   "outputs": [
    {
     "data": {
      "image/png": "[encoded data removed]",
      "text/plain": [
       "<Figure size 432x288 with 1 Axes>"
      ]
     },
     "metadata": {
      "needs_background": "light"
     },
     "output_type": "display_data"
    },
    {
     "name": "stdout",
     "output_type": "stream",
     "text": [
      "circle\n"
     ]
    },
    {
     "data": {
      "image/png": "[encoded data removed]",
      "text/plain": [
       "<Figure size 432x288 with 1 Axes>"
      ]
     },
     "metadata": {
      "needs_background": "light"
     },
     "output_type": "display_data"
    },
    {
     "name": "stdout",
     "output_type": "stream",
     "text": [
      "trinagle\n"
     ]
    },
    {
     "data": {
      "image/png": "[encoded data removed]",
      "text/plain": [
       "<Figure size 432x288 with 1 Axes>"
      ]
     },
     "metadata": {
      "needs_background": "light"
     },
     "output_type": "display_data"
    },
    {
     "name": "stdout",
     "output_type": "stream",
     "text": [
      "trinagle\n"
     ]
    },
    {
     "data": {
      "image/png": "[encoded data removed]",
      "text/plain": [
       "<Figure size 432x288 with 1 Axes>"
      ]
     },
     "metadata": {
      "needs_background": "light"
     },
     "output_type": "display_data"
    },
    {
     "name": "stdout",
     "output_type": "stream",
     "text": [
      "trinagle\n"
     ]
    },
    {
     "data": {
      "image/png": "[encoded data removed]",
      "text/plain": [
       "<Figure size 432x288 with 1 Axes>"
      ]
     },
     "metadata": {
      "needs_background": "light"
     },
     "output_type": "display_data"
    },
    {
     "name": "stdout",
     "output_type": "stream",
     "text": [
      "square\n"
     ]
    },
    {
     "data": {
      "image/png": "[encoded data removed]",
      "text/plain": [
       "<Figure size 432x288 with 1 Axes>"
      ]
     },
     "metadata": {
      "needs_background": "light"
     },
     "output_type": "display_data"
    },
    {
     "name": "stdout",
     "output_type": "stream",
     "text": [
      "square\n"
     ]
    },
    {
     "data": {
      "image/png": "[encoded data removed]",
      "text/plain": [
       "<Figure size 432x288 with 1 Axes>"
      ]
     },
     "metadata": {
      "needs_background": "light"
     },
     "output_type": "display_data"
    },
    {
     "name": "stdout",
     "output_type": "stream",
     "text": [
      "trinagle\n"
     ]
    },
    {
     "data": {
      "image/png": "[encoded data removed]",
      "text/plain": [
       "<Figure size 432x288 with 1 Axes>"
      ]
     },
     "metadata": {
      "needs_background": "light"
     },
     "output_type": "display_data"
    },
    {
     "name": "stdout",
     "output_type": "stream",
     "text": [
      "trinagle\n"
     ]
    },
    {
     "data": {
      "image/png": "[encoded data removed]",
      "text/plain": [
       "<Figure size 432x288 with 1 Axes>"
      ]
     },
     "metadata": {
      "needs_background": "light"
     },
     "output_type": "display_data"
    },
    {
     "name": "stdout",
     "output_type": "stream",
     "text": [
      "circle\n"
     ]
    },
    {
     "data": {
      "image/png": "[encoded data removed]",
      "text/plain": [
       "<Figure size 432x288 with 1 Axes>"
      ]
     },
     "metadata": {
      "needs_background": "light"
     },
     "output_type": "display_data"
    },
    {
     "name": "stdout",
     "output_type": "stream",
     "text": [
      "square\n"
     ]
    },
    {
     "data": {
      "image/png": "[encoded data removed]",
      "text/plain": [
       "<Figure size 432x288 with 1 Axes>"
      ]
     },
     "metadata": {
      "needs_background": "light"
     },
     "output_type": "display_data"
    },
    {
     "name": "stdout",
     "output_type": "stream",
     "text": [
      "trinagle\n"
     ]
    }
   ],
   "source": [
    "dir_path = 'data/test'\n",
    "\n",
    "for i in os.listdir(dir_path):\n",
    "    img = image.load_img(dir_path+'//'+i, target_size=(28,28,3)) #loads the test images and resizes them to target_size\n",
    "    plt.imshow(img)\n",
    "    plt.show()\n",
    "    \n",
    "    X=image.img_to_array(img)\n",
    "    X=np.expand_dims(X, axis = 0)\n",
    "    images = np.vstack([X])\n",
    "    val = model.predict(images)\n",
    "    if val.item(0) == 1:\n",
    "        print('circle')\n",
    "    elif val.item(1) == 1:\n",
    "        print('square')\n",
    "    elif val.item(2) == 1:\n",
    "        print('trinagle')\n",
    "   \n",
    "        \n",
    "        "
   ]
  },
  {
   "cell_type": "code",
   "execution_count": null,
   "metadata": {},
   "outputs": [],
   "source": []
  },
  {
   "cell_type": "code",
   "execution_count": null,
   "metadata": {},
   "outputs": [],
   "source": []
  }
 ],
 "metadata": {
  "kernelspec": {
   "display_name": "Python 3",
   "language": "python",
   "name": "python3"
  },
  "language_info": {
   "codemirror_mode": {
    "name": "ipython",
    "version": 3
   },
   "file_extension": ".py",
   "mimetype": "text/x-python",
   "name": "python",
   "nbconvert_exporter": "python",
   "pygments_lexer": "ipython3",
   "version": "3.8.5"
  }
 },
 "nbformat": 4,
 "nbformat_minor": 4
}
